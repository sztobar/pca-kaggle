{
 "cells": [
  {
   "cell_type": "code",
   "execution_count": 1,
   "metadata": {
    "collapsed": true
   },
   "outputs": [],
   "source": [
    "import kagglegym\n",
    "from sklearn import linear_model as lm\n",
    "import numpy as np\n",
    "from pca import pca\n",
    "import pandas as pd\n",
    "import time"
   ]
  },
  {
   "cell_type": "code",
   "execution_count": 2,
   "metadata": {
    "collapsed": true
   },
   "outputs": [],
   "source": [
    "env = kagglegym.make()\n",
    "observation = env.reset()\n",
    "train = observation.train\n",
    "mean_values = train.mean(axis=0)\n",
    "train = train.fillna(mean_values)"
   ]
  },
  {
   "cell_type": "code",
   "execution_count": 3,
   "metadata": {
    "collapsed": true
   },
   "outputs": [],
   "source": [
    "def getTimeDurationSince(start):\n",
    "    end = time.time()\n",
    "    duration = end - start\n",
    "    if duration < 60:\n",
    "        return str(round(duration, 2)) + 's'\n",
    "    else:\n",
    "        mins = int(duration / 60)\n",
    "        secs = round(duration % 60, 2)\n",
    "        if mins < 60:\n",
    "            return str(mins) + 'm ' + str(secs) + 's'\n",
    "        else:\n",
    "            hours = int(duration / 3600)\n",
    "            mins = mins % 60\n",
    "            return str(hours) + 'h ' + str(mins) + 'm ' + str(secs) + 's'"
   ]
  },
  {
   "cell_type": "code",
   "execution_count": 4,
   "metadata": {
    "collapsed": true
   },
   "outputs": [],
   "source": [
    "high_y_cut = 0.093497\n",
    "low_y_cut = -0.086093\n",
    "y_is_above_cut = (train.y > high_y_cut)\n",
    "y_is_below_cut = (train.y < low_y_cut)\n",
    "y_is_within_cut = (~y_is_above_cut & ~y_is_below_cut)\n",
    "\n",
    "def run_lr(cols_to_use, reduce_components_to=-1, clip_y=False):\n",
    "    starTime = time.time()\n",
    "    \n",
    "    env.unique_idx = int(env.n/2)\n",
    "    observation = env.reset()\n",
    "    train = observation.train\n",
    "    mean_values = train.mean(axis=0)\n",
    "    train = train.fillna(mean_values)\n",
    "\n",
    "    model = lm.LinearRegression()\n",
    "    train_x = np.array(train[cols_to_use])\n",
    "    if reduce_components_to != -1:\n",
    "        train_x, y, evals, evecs = pca(train_x, red_cmps_to=reduce_components_to)\n",
    "        \n",
    "    if clip_y:\n",
    "        train_x = train_x[y_is_within_cut]\n",
    "        train_y = train.loc[y_is_within_cut, 'y']\n",
    "    else:\n",
    "        train_y = train.y.values\n",
    "        \n",
    "    model.fit(train_x, train_y)\n",
    "\n",
    "    while True:\n",
    "        features = observation.features.fillna(mean_values)\n",
    "        test_x = np.array(features[cols_to_use])\n",
    "        if reduce_components_to != -1:\n",
    "            test_x_pca = np.dot(np.transpose(evecs), np.transpose(test_x))\n",
    "            test_x = np.transpose(test_x_pca)\n",
    "        observation.target.y = model.predict(test_x)\n",
    "        if clip_y:\n",
    "            observation.target.y = observation.target.y.clip(low_y_cut, high_y_cut)\n",
    "        target = observation.target\n",
    "\n",
    "        observation, reward, done, info = env.step(target)\n",
    "        if done:\n",
    "            break\n",
    "    components = 'wszystkich' if reduce_components_to == -1 else str(reduce_components_to)\n",
    "    print('Dla {} składowych głownych czas wyniósł: {}'.format(components, getTimeDurationSince(starTime)))\n",
    "    return info['public_score']"
   ]
  },
  {
   "cell_type": "code",
   "execution_count": 5,
   "metadata": {
    "collapsed": true
   },
   "outputs": [],
   "source": [
    "pca_indexes = ['all', '50', '35', '20', '10', '5', '2']\n",
    "def run_lr_pca(cols_to_use, clip_y=False):\n",
    "    return pd.Series([\n",
    "      run_lr(cols_to_use, reduce_components_to=-1, clip_y=clip_y),\n",
    "      run_lr(cols_to_use, reduce_components_to=50, clip_y=clip_y),\n",
    "      run_lr(cols_to_use, reduce_components_to=35, clip_y=clip_y),\n",
    "      run_lr(cols_to_use, reduce_components_to=20, clip_y=clip_y),\n",
    "      run_lr(cols_to_use, reduce_components_to=10, clip_y=clip_y),\n",
    "      run_lr(cols_to_use, reduce_components_to=5, clip_y=clip_y),\n",
    "      run_lr(cols_to_use, reduce_components_to=2, clip_y=clip_y),\n",
    "    ], pca_indexes)"
   ]
  },
  {
   "cell_type": "code",
   "execution_count": 6,
   "metadata": {
    "collapsed": true
   },
   "outputs": [],
   "source": [
    "cols_to_use = [col for col in train.columns if col not in ['id','timestamp','y']]\n",
    "corrcoefs = []\n",
    "for col in cols_to_use:\n",
    "    corrcoefs.append([col, np.corrcoef(train[col].values, train.y.values)[0, 1]])\n",
    "corrcoefs = np.array(corrcoefs)\n",
    "\n",
    "corrcoefs_vals = corrcoefs[:,1].astype(np.float)\n",
    "corrcoefs_abs = np.absolute(corrcoefs_vals)\n",
    "sort_indices = corrcoefs_abs.argsort()\n",
    "sorted_corrcoefs = np.flip(corrcoefs[sort_indices], axis=0)\n",
    "top_corrcoefs = sorted_corrcoefs[:,0]"
   ]
  },
  {
   "cell_type": "markdown",
   "metadata": {},
   "source": [
    "# Obliczenia"
   ]
  },
  {
   "cell_type": "code",
   "execution_count": null,
   "metadata": {
    "collapsed": true
   },
   "outputs": [],
   "source": [
    "all_cols_series = run_lr_pca(cols_to_use)\n",
    "print(all_cols_series)\n",
    "print()\n",
    "print('Z obcięciem danych dla skrajnych y:')\n",
    "all_cols_clip_y_series = run_lr_pca(cols_to_use, clip_y=True)\n",
    "print(all_cols_clip_y_series)"
   ]
  },
  {
   "cell_type": "code",
   "execution_count": null,
   "metadata": {
    "collapsed": true
   },
   "outputs": [],
   "source": [
    "top_50_corr_cols = top_corrcoefs[:50]\n",
    "\n",
    "top_50_corr_cols_series = run_lr_pca(top_50_corr_cols)\n",
    "print(top_50_corr_cols_series)\n",
    "print()\n",
    "print('Z obcięciem danych dla skrajnych y:')\n",
    "top_50_corr_cols_clip_y_series = run_lr_pca(top_50_corr_cols, clip_y=True)\n",
    "print(top_50_corr_cols_clip_y_series)"
   ]
  },
  {
   "cell_type": "code",
   "execution_count": null,
   "metadata": {
    "collapsed": true
   },
   "outputs": [],
   "source": [
    "top_35_corr_cols = top_corrcoefs[:35]\n",
    "\n",
    "top_35_corr_cols_series = run_lr_pca(top_35_corr_cols)\n",
    "print(top_35_corr_cols_series)\n",
    "print()\n",
    "print('Z obcięciem danych dla skrajnych y:')\n",
    "top_35_corr_cols_clip_y_series = run_lr_pca(top_35_corr_cols, clip_y=True)\n",
    "print(top_35_corr_cols_clip_y_series)"
   ]
  },
  {
   "cell_type": "code",
   "execution_count": null,
   "metadata": {
    "collapsed": true
   },
   "outputs": [],
   "source": [
    "top_20_corr_cols = top_corrcoefs[:20]\n",
    "\n",
    "top_20_corr_cols_series = run_lr_pca(top_20_corr_cols)\n",
    "print(top_20_corr_cols_series)\n",
    "print()\n",
    "print('Z obcięciem danych dla skrajnych y:')\n",
    "top_20_corr_cols_clip_y_series = run_lr_pca(top_20_corr_cols, clip_y=True)\n",
    "print(top_20_corr_cols_clip_y_series)"
   ]
  },
  {
   "cell_type": "code",
   "execution_count": null,
   "metadata": {
    "collapsed": true
   },
   "outputs": [],
   "source": [
    "top_10_corr_cols = top_corrcoefs[:10]\n",
    "\n",
    "top_10_corr_cols_series = run_lr_pca(top_10_corr_cols)\n",
    "print(top_10_corr_cols_series)\n",
    "print()\n",
    "print('Z obcięciem danych dla skrajnych y:')\n",
    "top_10_corr_cols_clip_y_series = run_lr_pca(top_10_corr_cols, clip_y=True)\n",
    "print(top_10_corr_cols_clip_y_series)"
   ]
  },
  {
   "cell_type": "code",
   "execution_count": null,
   "metadata": {
    "collapsed": true
   },
   "outputs": [],
   "source": [
    "top_5_corr_cols = top_corrcoefs[:5]\n",
    "\n",
    "top_5_corr_cols_series = run_lr_pca(top_5_corr_cols)\n",
    "print(top_5_corr_cols_series)\n",
    "print()\n",
    "print('Z obcięciem danych dla skrajnych y:')\n",
    "top_5_corr_cols_clip_y_series = run_lr_pca(top_5_corr_cols, clip_y=True)\n",
    "print(top_5_corr_cols_clip_y_series)"
   ]
  },
  {
   "cell_type": "markdown",
   "metadata": {},
   "source": [
    "# Podsumowanie:"
   ]
  },
  {
   "cell_type": "code",
   "execution_count": null,
   "metadata": {
    "collapsed": true
   },
   "outputs": [],
   "source": [
    "d = {'01. Wszystkie kolumny':                                               all_cols_series,\n",
    "     '02. Wszystkie kolumn z obcięciem dla skrajnych y':                    all_cols_clip_y_series,\n",
    "     '03. 50 najbardziej skorelowanych kolumn':                             top_50_corr_cols_series,\n",
    "     '04. 50 najbardziej skorelowanych kolumn z obcięciem dla skrajnych y': top_50_corr_cols_clip_y_series,\n",
    "     '05. 35 najbardziej skorelowanych kolumn':                             top_35_corr_cols_series,\n",
    "     '06. 35 najbardziej skorelowanych kolumn z obcięciem dla skrajnych y': top_35_corr_cols_clip_y_series,\n",
    "     '07. 20 najbardziej skorelowanych kolumn':                             top_20_corr_cols_series,\n",
    "     '08. 20 najbardziej skorelowanych kolumn z obcięciem dla skrajnych y': top_20_corr_cols_clip_y_series,\n",
    "     '09. 10 najbardziej skorelowanych kolumn':                             top_10_corr_cols_series,\n",
    "     '10. 10 najbardziej skorelowanych kolumn z obcięciem dla skrajnych y': top_10_corr_cols_clip_y_series,\n",
    "     '11. 5 najbardziej skorelowanych kolumn':                              top_5_corr_cols_series,\n",
    "     '12. 5 najbardziej skorelowanych kolumn z obcięciem dla skrajnych y':  top_5_corr_cols_clip_y_series}\n",
    "\n",
    "def row_align_left(val):\n",
    "    return 'text-align: left'\n",
    "\n",
    "df = pd.DataFrame(d, pca_indexes).transpose()\n",
    "df.style.set_table_styles([{'selector': '.row_heading',\n",
    "                           'props': [('text-align', 'left')]}])"
   ]
  },
  {
   "cell_type": "code",
   "execution_count": null,
   "metadata": {
    "collapsed": true
   },
   "outputs": [],
   "source": []
  }
 ],
 "metadata": {
  "kernelspec": {
   "display_name": "Python 3",
   "language": "python",
   "name": "python3"
  },
  "language_info": {
   "codemirror_mode": {
    "name": "ipython",
    "version": 3
   },
   "file_extension": ".py",
   "mimetype": "text/x-python",
   "name": "python",
   "nbconvert_exporter": "python",
   "pygments_lexer": "ipython3",
   "version": "3.6.2"
  }
 },
 "nbformat": 4,
 "nbformat_minor": 2
}
