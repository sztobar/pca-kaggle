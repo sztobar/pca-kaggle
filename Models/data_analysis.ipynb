{
 "cells": [
  {
   "cell_type": "markdown",
   "metadata": {
    "collapsed": true
   },
   "source": [
    "## 1. Przygotowanie notebooka"
   ]
  },
  {
   "cell_type": "code",
   "execution_count": 1,
   "metadata": {
    "collapsed": true
   },
   "outputs": [],
   "source": [
    "import numpy as np\n",
    "import pandas as pd\n",
    "import matplotlib.pyplot as plt\n",
    "from sklearn import linear_model as lm\n",
    "import kagglegym\n",
    "\n",
    "env = kagglegym.make() # Stworzenie Środowiska\n",
    "observation = env.reset() # Otrzymanie pierwszej próbki danych\n",
    "train = observation.train # Otrzymanie ramki danych z pierwszej próbki\n",
    "\n",
    "%matplotlib inline"
   ]
  },
  {
   "cell_type": "markdown",
   "metadata": {},
   "source": [
    "### 2. Wstępny opis danych"
   ]
  },
  {
   "cell_type": "code",
   "execution_count": 2,
   "metadata": {},
   "outputs": [
    {
     "name": "stdout",
     "output_type": "stream",
     "text": [
      "Number of rows: 806298, Number of columns: 111\n",
      "Derived columns: 5, Fundamental columns: 63, Technical columns: 40\n",
      "Number of unique timestamps: 906\n",
      "all null values: 12282356, every column has an average 113726 null values\n"
     ]
    }
   ],
   "source": [
    "print('Ilość wierszy: {}, Ilość kolumn: {}'.format(*train.shape))\n",
    "cols = [0, 0, 0]\n",
    "for c in train.columns:\n",
    "    if 'derived' in c: cols[0] += 1\n",
    "    if 'fundamental' in c: cols[1] += 1\n",
    "    if 'technical' in c: cols[2] += 1\n",
    "print('kolumny derived: {}, kolumny fundamental: {}, kolumny technical: {}'\n",
    "    .format(*cols))\n",
    "print('Ilość unikalnych znaków czasowych: {}'.format(train[\"timestamp\"].unique().size))\n",
    "cols = [col for col in train.columns if col not in ['id','timestamp','y']]\n",
    "nulls = train[cols].isnull().sum()\n",
    "print('Wszystkie puste wartości: {0}, każda kolumna ma średnio {1:.0f} pustych wartości'\n",
    "    .format(nulls.sum(), nulls.mean()))"
   ]
  },
  {
   "cell_type": "markdown",
   "metadata": {},
   "source": [
    "### 3. Wypełnienie luk średnimi"
   ]
  },
  {
   "cell_type": "code",
   "execution_count": 2,
   "metadata": {
    "collapsed": true
   },
   "outputs": [],
   "source": [
    "mean_values = train.mean(axis=0)\n",
    "train.fillna(mean_values, inplace=True)"
   ]
  },
  {
   "cell_type": "markdown",
   "metadata": {},
   "source": [
    "### 4. Regresja liniowa"
   ]
  },
  {
   "cell_type": "code",
   "execution_count": 4,
   "metadata": {},
   "outputs": [
    {
     "data": {
      "text/plain": [
       "{'public_score': -0.0056828420938354702}"
      ]
     },
     "execution_count": 4,
     "metadata": {},
     "output_type": "execute_result"
    }
   ],
   "source": [
    "cols_to_use = [col for col in train.columns if col not in ['id','timestamp','y']]\n",
    "\n",
    "model = lm.LinearRegression()\n",
    "model.fit(np.array(train[cols_to_use]), train.y.values)\n",
    "\n",
    "while True:\n",
    "    observation.features.fillna(mean_values, inplace=True)\n",
    "    test_x = np.array(observation.features[cols_to_use])\n",
    "    observation.target.y = model.predict(test_x)\n",
    "    target = observation.target\n",
    "    \n",
    "    observation, reward, done, info = env.step(target)\n",
    "    if done:\n",
    "        break\n",
    "        \n",
    "info"
   ]
  },
  {
   "cell_type": "markdown",
   "metadata": {},
   "source": [
    "### 5. Histogram y"
   ]
  },
  {
   "cell_type": "code",
   "execution_count": 5,
   "metadata": {},
   "outputs": [
    {
     "name": "stdout",
     "output_type": "stream",
     "text": [
      "Max y value in train :  0.0934978\n",
      "Min y value in train :  -0.0860941\n"
     ]
    },
    {
     "data": {
      "image/png": "[encoded data removed]",
      "text/plain": [
       "<matplotlib.figure.Figure at 0x7ff2fb6e1f98>"
      ]
     },
     "metadata": {},
     "output_type": "display_data"
    }
   ],
   "source": [
    "y = train.y.values\n",
    "plt.hist(y, bins=50, edgecolor='black', linewidth=1.2)\n",
    "plt.xlabel('Target Value')\n",
    "plt.ylabel('Count')\n",
    "plt.title('Distribution of target value')\n",
    "print('Max y value in train : ',train.y.max())\n",
    "print('Min y value in train : ',train.y.min())"
   ]
  },
  {
   "cell_type": "markdown",
   "metadata": {},
   "source": [
    "### 6. Odfiltrowanie próbek dla skrajnych y"
   ]
  },
  {
   "cell_type": "code",
   "execution_count": 6,
   "metadata": {},
   "outputs": [
    {
     "data": {
      "text/plain": [
       "True     796880\n",
       "False      9418\n",
       "Name: y, dtype: int64"
      ]
     },
     "execution_count": 6,
     "metadata": {},
     "output_type": "execute_result"
    }
   ],
   "source": [
    "high_y_cut = 0.093497\n",
    "low_y_cut = -0.086093\n",
    "\n",
    "y_is_above_cut = (train.y > high_y_cut)\n",
    "y_is_below_cut = (train.y < low_y_cut)\n",
    "y_is_within_cut = (~y_is_above_cut & ~y_is_below_cut)\n",
    "y_is_within_cut.value_counts()"
   ]
  },
  {
   "cell_type": "markdown",
   "metadata": {},
   "source": [
    "### 7. Regresja liniowa z filtrowaniem skajnych y"
   ]
  },
  {
   "cell_type": "code",
   "execution_count": 7,
   "metadata": {
    "collapsed": true
   },
   "outputs": [],
   "source": [
    "# Wczytanie danych od nowa\n",
    "env = kagglegym.make()\n",
    "observation = env.reset()\n",
    "train = observation.train\n",
    "mean_values = train.mean(axis=0)\n",
    "train.fillna(mean_values, inplace=True)"
   ]
  },
  {
   "cell_type": "code",
   "execution_count": 8,
   "metadata": {},
   "outputs": [
    {
     "data": {
      "text/plain": [
       "{'public_score': -0.003614189933349948}"
      ]
     },
     "execution_count": 8,
     "metadata": {},
     "output_type": "execute_result"
    }
   ],
   "source": [
    "model = lm.LinearRegression()\n",
    "model.fit(np.array(train.loc[y_is_within_cut, cols_to_use].values), train.loc[y_is_within_cut, 'y'])\n",
    "\n",
    "while True:\n",
    "    observation.features.fillna(mean_values, inplace=True)\n",
    "    test_x = np.array(observation.features[cols_to_use])\n",
    "    observation.target.y = model.predict(test_x).clip(low_y_cut, high_y_cut)\n",
    "    target = observation.target\n",
    "    \n",
    "    observation, reward, done, info = env.step(target)\n",
    "    if done:\n",
    "        break\n",
    "        \n",
    "info"
   ]
  },
  {
   "cell_type": "markdown",
   "metadata": {
    "collapsed": true
   },
   "source": [
    "### 8. Pca pojeście pierwsze"
   ]
  },
  {
   "cell_type": "code",
   "execution_count": 9,
   "metadata": {
    "collapsed": true
   },
   "outputs": [],
   "source": [
    "from pca import pca\n",
    "env = kagglegym.make()\n",
    "observation = env.reset()\n",
    "train = observation.train\n",
    "mean_values = train.mean(axis=0)\n",
    "train = train.fillna(mean_values, inplace=True)"
   ]
  },
  {
   "cell_type": "code",
   "execution_count": 10,
   "metadata": {},
   "outputs": [
    {
     "data": {
      "text/plain": [
       "{'public_score': -0.0034090373427553338}"
      ]
     },
     "execution_count": 10,
     "metadata": {},
     "output_type": "execute_result"
    }
   ],
   "source": [
    "train_x, y, evals, evecs = pca(np.array(train[cols_to_use]), red_cmps_to=10)\n",
    "model = lm.LinearRegression()\n",
    "model.fit(train_x[y_is_within_cut], train.loc[y_is_within_cut, 'y'])\n",
    "\n",
    "while True:\n",
    "    observation.features.fillna(mean_values, inplace=True)\n",
    "    test_x = np.array(observation.features[cols_to_use])\n",
    "    test_x_pca = np.dot(np.transpose(evecs), np.transpose(test_x))\n",
    "    test_x_pca = np.transpose(test_x_pca)\n",
    "    observation.target.y = model.predict(test_x_pca).clip(low_y_cut, high_y_cut)\n",
    "    target = observation.target\n",
    "    \n",
    "    observation, reward, done, info = env.step(target)\n",
    "    if done:\n",
    "        break\n",
    "        \n",
    "info"
   ]
  },
  {
   "cell_type": "markdown",
   "metadata": {
    "collapsed": true
   },
   "source": [
    "### 9. Korelacja kolumn do wyniku"
   ]
  },
  {
   "cell_type": "code",
   "execution_count": 5,
   "metadata": {
    "collapsed": true
   },
   "outputs": [],
   "source": [
    "env = kagglegym.make()\n",
    "observation = env.reset()\n",
    "train = observation.train\n",
    "mean_values = train.mean(axis=0)\n",
    "train.fillna(mean_values, inplace=True)"
   ]
  },
  {
   "cell_type": "code",
   "execution_count": 6,
   "metadata": {},
   "outputs": [
    {
     "name": "stdout",
     "output_type": "stream",
     "text": [
      "Max correlation coefficient:  0.0161537610929\n",
      "Min correlation coefficient:  0.00359671956071\n"
     ]
    },
    {
     "data": {
      "text/plain": [
       "array([['technical_30', '0.0161537610929'],\n",
       "       ['technical_20', '-0.0156396653507'],\n",
       "       ['fundamental_11', '0.0108379372595'],\n",
       "       ['fundamental_51', '0.00798150013626'],\n",
       "       ['fundamental_53', '0.0078433356271'],\n",
       "       ['technical_19', '-0.00777823068846'],\n",
       "       ['technical_40', '-0.00690638846324'],\n",
       "       ['technical_7', '-0.00674199165259'],\n",
       "       ['technical_11', '-0.00545567759903'],\n",
       "       ['technical_2', '-0.00486273325449'],\n",
       "       ['fundamental_13', '0.00466957279298'],\n",
       "       ['technical_17', '-0.00461245563077'],\n",
       "       ['fundamental_56', '0.00453583924232'],\n",
       "       ['technical_6', '-0.00449208757575'],\n",
       "       ['technical_43', '-0.00439436623504'],\n",
       "       ['technical_21', '-0.00434309735651'],\n",
       "       ['fundamental_23', '-0.00422781875112'],\n",
       "       ['fundamental_55', '0.00403718923065'],\n",
       "       ['fundamental_50', '-0.00383381664646'],\n",
       "       ['technical_36', '-0.00359671956071']], \n",
       "      dtype='<U18')"
      ]
     },
     "execution_count": 6,
     "metadata": {},
     "output_type": "execute_result"
    }
   ],
   "source": [
    "corrcoefs = []\n",
    "for col in cols_to_use:\n",
    "    corrcoefs.append([col, np.corrcoef(train[col].values, train.y.values)[0, 1]])\n",
    "corrcoefs = np.array(corrcoefs)\n",
    "\n",
    "corrcoefs_vals = corrcoefs[:,1].astype(np.float)\n",
    "corrcoefs_abs = np.absolute(corrcoefs_vals)\n",
    "sort_indices = corrcoefs_abs.argsort()\n",
    "sorted_corrcoefs = np.flip(corrcoefs[sort_indices], axis=0)\n",
    "top_corrcoefs = sorted_corrcoefs[:20]\n",
    "print('Max correlation coefficient: ', np.absolute(top_corrcoefs[:,1].astype(np.float)).max())\n",
    "print('Min correlation coefficient: ', np.absolute(top_corrcoefs[:,1].astype(np.float)).min())\n",
    "top_corrcoefs"
   ]
  },
  {
   "cell_type": "code",
   "execution_count": 17,
   "metadata": {},
   "outputs": [
    {
     "data": {
      "text/plain": [
       "{'public_score': 0.0047396490596362919}"
      ]
     },
     "execution_count": 17,
     "metadata": {},
     "output_type": "execute_result"
    }
   ],
   "source": [
    "cols_to_use = top_corrcoefs[:,0]\n",
    "train_x, y, evals, evecs = pca(np.array(train[cols_to_use]), red_cmps_to=5)\n",
    "model = lm.LinearRegression()\n",
    "model.fit(train_x[y_is_within_cut], train.loc[y_is_within_cut, 'y'])\n",
    "\n",
    "while True:\n",
    "    observation.features.fillna(mean_values, inplace=True)\n",
    "    test_x = np.array(observation.features[cols_to_use])\n",
    "    test_x_pca = np.dot(np.transpose(evecs), np.transpose(test_x))\n",
    "    test_x_pca = np.transpose(test_x_pca)\n",
    "    observation.target.y = model.predict(test_x_pca).clip(low_y_cut, high_y_cut)\n",
    "    target = observation.target\n",
    "    \n",
    "    observation, reward, done, info = env.step(target)\n",
    "    if done:\n",
    "        break\n",
    "        \n",
    "info"
   ]
  },
  {
   "cell_type": "code",
   "execution_count": null,
   "metadata": {
    "collapsed": true
   },
   "outputs": [],
   "source": []
  }
 ],
 "metadata": {
  "kernelspec": {
   "display_name": "Python 3",
   "language": "python",
   "name": "python3"
  },
  "language_info": {
   "codemirror_mode": {
    "name": "ipython",
    "version": 3
   },
   "file_extension": ".py",
   "mimetype": "text/x-python",
   "name": "python",
   "nbconvert_exporter": "python",
   "pygments_lexer": "ipython3",
   "version": "3.6.2"
  }
 },
 "nbformat": 4,
 "nbformat_minor": 2
}
